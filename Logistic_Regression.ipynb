{
  "cells": [
    {
      "cell_type": "markdown",
      "metadata": {
        "id": "MstEi144hUd-"
      },
      "source": [
        "___\n",
        "\n",
        "\n",
        "# Logistic Regression\n",
        "\n",
        "In this assignment we will be working with a fake advertising data set, indicating whether or not a particular internet user clicked on an Advertisement on a company website. We will try to create a model that will predict whether or not they will click on an ad based off the features of that user.\n",
        "\n",
        "This data set contains the following features:\n",
        "\n",
        "\n",
        "* 'Daily Time Spent on Site': consumer time on site in minutes\n",
        "* 'Age': cutomer age in years\n",
        "* 'Area Income': Avg. Income of geographical area of consumer\n",
        "* 'Daily Internet Usage': Avg. minutes a day consumer is on the internet\n",
        "* 'Ad Topic Line': Headline of the advertisement\n",
        "* 'City': City of consumer\n",
        "* 'Male': Whether or not consumer was male\n",
        "* 'Country': Country of consumer\n",
        "* 'Timestamp': Time at which consumer clicked on Ad or closed window\n",
        "* 'Clicked on Ad': 0 or 1 indicated clicking on Ad\n",
        "\n",
        "## Import Libraries\n",
        "\n",
        "**Import a few libraries you think you'll need (Or just import them as you go along!)**"
      ]
    },
    {
      "cell_type": "code",
      "execution_count": null,
      "metadata": {
        "collapsed": true,
        "id": "84rmEg2mhUeB"
      },
      "outputs": [],
      "source": []
    },
    {
      "cell_type": "markdown",
      "metadata": {
        "collapsed": true,
        "id": "_h3yYxSBhUeC"
      },
      "source": [
        "## Get the Data\n",
        "**Read in the advertising.csv file and set it to a data frame called ad_data.**"
      ]
    },
    {
      "cell_type": "code",
      "execution_count": null,
      "metadata": {
        "id": "Axn3ybFRhUeD"
      },
      "outputs": [],
      "source": []
    },
    {
      "cell_type": "markdown",
      "metadata": {
        "id": "LVu0HOVkhUeD"
      },
      "source": [
        "**Check the head of ad_data**"
      ]
    },
    {
      "cell_type": "code",
      "execution_count": null,
      "metadata": {
        "id": "Ba1dTcQPhUeD"
      },
      "outputs": [],
      "source": []
    },
    {
      "cell_type": "markdown",
      "metadata": {
        "id": "PbIhWwvQhUeE"
      },
      "source": [
        "** Use info and describe() on ad_data**"
      ]
    },
    {
      "cell_type": "code",
      "execution_count": null,
      "metadata": {
        "id": "Wc5WZrvvhUeF"
      },
      "outputs": [],
      "source": []
    },
    {
      "cell_type": "code",
      "execution_count": null,
      "metadata": {
        "id": "fMR_XT8QhUeF"
      },
      "outputs": [],
      "source": []
    },
    {
      "cell_type": "markdown",
      "metadata": {
        "id": "h5Fey-sUhUeF"
      },
      "source": [
        "## Exploratory Data Analysis\n",
        "\n",
        "Let's use seaborn to explore the data!\n",
        "\n",
        "Try recreating the plots shown below!\n",
        "\n",
        "** Create a histogram of the Age**"
      ]
    },
    {
      "cell_type": "code",
      "execution_count": null,
      "metadata": {
        "id": "8Yiwc0_vhUeG"
      },
      "outputs": [],
      "source": []
    },
    {
      "cell_type": "markdown",
      "metadata": {
        "id": "TDjpnosqhUeG"
      },
      "source": [
        "**Create a jointplot showing Area Income versus Age.**"
      ]
    },
    {
      "cell_type": "code",
      "execution_count": null,
      "metadata": {
        "id": "uQ3itbXmhUeG"
      },
      "outputs": [],
      "source": []
    },
    {
      "cell_type": "markdown",
      "metadata": {
        "id": "ybQgI1l6hUeG"
      },
      "source": [
        "**Create a jointplot showing the kde distributions of Daily Time spent on site vs. Age.**"
      ]
    },
    {
      "cell_type": "code",
      "execution_count": null,
      "metadata": {
        "id": "F7_jIHeghUeG"
      },
      "outputs": [],
      "source": []
    },
    {
      "cell_type": "markdown",
      "metadata": {
        "id": "OybFJEAshUeH"
      },
      "source": [
        "** Create a jointplot of 'Daily Time Spent on Site' vs. 'Daily Internet Usage'**"
      ]
    },
    {
      "cell_type": "code",
      "execution_count": null,
      "metadata": {
        "id": "xObTfY-whUeH"
      },
      "outputs": [],
      "source": []
    },
    {
      "cell_type": "markdown",
      "metadata": {
        "id": "afCCmyylhUeH"
      },
      "source": [
        "** Finally, create a pairplot with the hue defined by the 'Clicked on Ad' column feature.**"
      ]
    },
    {
      "cell_type": "code",
      "execution_count": null,
      "metadata": {
        "id": "IFCqO3zphUeH"
      },
      "outputs": [],
      "source": []
    },
    {
      "cell_type": "markdown",
      "metadata": {
        "id": "MQ-FfS9hhUeH"
      },
      "source": [
        "# Logistic Regression\n",
        "\n",
        "Now it's time to do a train test split, and train our model!\n",
        "\n",
        "You'll have the freedom here to choose columns that you want to train on!"
      ]
    },
    {
      "cell_type": "markdown",
      "metadata": {
        "id": "bajvc1SfhUeH"
      },
      "source": [
        "** Split the data into training set and testing set using train_test_split. The training set should have 0.7X fraction of data where X is last number of your Roll No.**"
      ]
    },
    {
      "cell_type": "code",
      "execution_count": null,
      "metadata": {
        "collapsed": true,
        "id": "Ym53qlHhhUeH"
      },
      "outputs": [],
      "source": []
    },
    {
      "cell_type": "code",
      "execution_count": null,
      "metadata": {
        "id": "MhFMDkl5hUeH"
      },
      "outputs": [],
      "source": []
    },
    {
      "cell_type": "code",
      "execution_count": null,
      "metadata": {
        "collapsed": true,
        "id": "iWJ4a2V-hUeI"
      },
      "outputs": [],
      "source": []
    },
    {
      "cell_type": "markdown",
      "metadata": {
        "id": "Pyy7jTlMhUeI"
      },
      "source": [
        "** Train and fit a logistic regression model on the training set.**"
      ]
    },
    {
      "cell_type": "code",
      "execution_count": null,
      "metadata": {
        "collapsed": true,
        "id": "24fiCyRjhUeI"
      },
      "outputs": [],
      "source": []
    },
    {
      "cell_type": "code",
      "execution_count": null,
      "metadata": {
        "id": "SVvtZHk8hUeI"
      },
      "outputs": [],
      "source": []
    },
    {
      "cell_type": "markdown",
      "metadata": {
        "id": "2AJjl9x-hUeI"
      },
      "source": [
        "## Predictions and Evaluations\n",
        "** Now predict values for the testing data.**"
      ]
    },
    {
      "cell_type": "code",
      "execution_count": null,
      "metadata": {
        "id": "3QU8IJMkhUeI"
      },
      "outputs": [],
      "source": []
    },
    {
      "cell_type": "markdown",
      "metadata": {
        "id": "_qW-eKWFhUeI"
      },
      "source": [
        "** Create a classification report for the model.**"
      ]
    },
    {
      "cell_type": "code",
      "execution_count": null,
      "metadata": {
        "collapsed": true,
        "id": "C9hQBjD5hUeI"
      },
      "outputs": [],
      "source": []
    },
    {
      "cell_type": "code",
      "execution_count": null,
      "metadata": {
        "id": "mRxTxhY5hUeI"
      },
      "outputs": [],
      "source": []
    },
    {
      "cell_type": "markdown",
      "metadata": {
        "id": "f5ZnIXlLhUeI"
      },
      "source": [
        "## Great Job!"
      ]
    }
  ],
  "metadata": {
    "kernelspec": {
      "display_name": "Python 3",
      "language": "python",
      "name": "python3"
    },
    "language_info": {
      "codemirror_mode": {
        "name": "ipython",
        "version": 3
      },
      "file_extension": ".py",
      "mimetype": "text/x-python",
      "name": "python",
      "nbconvert_exporter": "python",
      "pygments_lexer": "ipython3",
      "version": "3.5.1"
    },
    "colab": {
      "provenance": []
    }
  },
  "nbformat": 4,
  "nbformat_minor": 0
}